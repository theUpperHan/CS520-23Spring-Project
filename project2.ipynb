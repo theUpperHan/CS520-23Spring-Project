{
 "cells": [
  {
   "cell_type": "markdown",
   "id": "d1ab2ce7",
   "metadata": {},
   "source": [
    "# CS 520 Final Project"
   ]
  },
  {
   "cell_type": "markdown",
   "id": "a90d3cb4",
   "metadata": {},
   "source": [
    "## Packages & Data Structures"
   ]
  },
  {
   "cell_type": "code",
   "execution_count": 1,
   "id": "1052c3ad",
   "metadata": {},
   "outputs": [
    {
     "name": "stderr",
     "output_type": "stream",
     "text": [
      "\u001b[36m\u001b[1m[ \u001b[22m\u001b[39m\u001b[36m\u001b[1mInfo: \u001b[22m\u001b[39mverify download of index files...\n",
      "\u001b[36m\u001b[1m[ \u001b[22m\u001b[39m\u001b[36m\u001b[1mInfo: \u001b[22m\u001b[39mreading database\n",
      "\u001b[36m\u001b[1m[ \u001b[22m\u001b[39m\u001b[36m\u001b[1mInfo: \u001b[22m\u001b[39madding metadata...\n",
      "\u001b[36m\u001b[1m[ \u001b[22m\u001b[39m\u001b[36m\u001b[1mInfo: \u001b[22m\u001b[39madding svd data...\n",
      "\u001b[36m\u001b[1m[ \u001b[22m\u001b[39m\u001b[36m\u001b[1mInfo: \u001b[22m\u001b[39mwriting database\n",
      "\u001b[36m\u001b[1m[ \u001b[22m\u001b[39m\u001b[36m\u001b[1mInfo: \u001b[22m\u001b[39mused remote sites are sparse.tamu.edu with MAT index and math.nist.gov with HTML index\n"
     ]
    }
   ],
   "source": [
    "using MatrixDepot, SparseArrays, AMD, LinearAlgebra, Statistics, Printf, JuMP, GLPK, Markdown"
   ]
  },
  {
   "cell_type": "code",
   "execution_count": 2,
   "id": "f6e078bb",
   "metadata": {},
   "outputs": [
    {
     "data": {
      "text/plain": [
       "convert_matrixdepot (generic function with 1 method)"
      ]
     },
     "execution_count": 2,
     "metadata": {},
     "output_type": "execute_result"
    }
   ],
   "source": [
    "mutable struct IplpSolution\n",
    "  x::Vector{Float64} # the solution vector \n",
    "  flag::Bool         # a true/false flag indicating convergence or not\n",
    "  cs::Vector{Float64} # the objective vector in standard form\n",
    "  As::SparseMatrixCSC{Float64} # the constraint matrix in standard form\n",
    "  bs::Vector{Float64} # the right hand side (b) in standard form\n",
    "  xs::Vector{Float64} # the solution in standard form\n",
    "  lam::Vector{Float64} # the solution lambda in standard form\n",
    "  s::Vector{Float64} # the solution s in standard form\n",
    "end\n",
    "\n",
    "mutable struct IplpProblem\n",
    "  c::Vector{Float64}\n",
    "  A::SparseMatrixCSC{Float64} \n",
    "  b::Vector{Float64}\n",
    "  lo::Vector{Float64}\n",
    "  hi::Vector{Float64}\n",
    "end\n",
    "\n",
    "function convert_matrixdepot(P::MatrixDepot.MatrixDescriptor)\n",
    "  # key_base = sort(collect(keys(mmmeta)))[1]\n",
    "  return IplpProblem(\n",
    "    vec(P.c), P.A, vec(P.b), vec(P.lo), vec(P.hi))\n",
    "end"
   ]
  },
  {
   "cell_type": "markdown",
   "id": "657cde72",
   "metadata": {},
   "source": [
    "## Presolve"
   ]
  },
  {
   "cell_type": "code",
   "execution_count": 3,
   "id": "6f82aa7a",
   "metadata": {},
   "outputs": [
    {
     "data": {
      "text/plain": [
       "remove_zero_rows (generic function with 1 method)"
      ]
     },
     "execution_count": 3,
     "metadata": {},
     "output_type": "execute_result"
    }
   ],
   "source": [
    "function remove_zero_columns(problem::IplpProblem)\n",
    "    zero_columns = findall(sum(problem.A .!= 0, dims=1)[:] .== 0)\n",
    "\n",
    "    # Deduce solution values x_i\n",
    "    x_values = zeros(length(problem.c))\n",
    "    for col in zero_columns\n",
    "        if problem.c[col] < 0\n",
    "            if problem.hi[col] == Inf\n",
    "                return :unbounded\n",
    "            else\n",
    "                x_values[col] = problem.hi[col]\n",
    "            end\n",
    "        elseif problem.c[col] > 0\n",
    "            x_values[col] = problem.lo[col]\n",
    "        end\n",
    "    end\n",
    "\n",
    "    # Remove zero columns from A\n",
    "    problem.A = problem.A[:, setdiff(1:size(problem.A, 2), zero_columns)]\n",
    "\n",
    "    # Adjust the objective function coefficients and bounds\n",
    "    problem.c = problem.c[setdiff(1:length(problem.c), zero_columns)]\n",
    "    problem.lo = problem.lo[setdiff(1:length(problem.lo), zero_columns)]\n",
    "    problem.hi = problem.hi[setdiff(1:length(problem.hi), zero_columns)]\n",
    "\n",
    "    # Adjust the constraint vector b\n",
    "    problem.b -= problem.A * x_values[setdiff(1:length(x_values), zero_columns)]\n",
    "\n",
    "    return problem, zero_columns\n",
    "end\n",
    "\n",
    "function remove_zero_rows(problem::IplpProblem)\n",
    "    zero_rows = findall(sum(problem.A .!= 0, dims=2)[:] .== 0)\n",
    "    non_zero_rows = setdiff(1:size(problem.A, 1), zero_rows)\n",
    "    problem.A = problem.A[non_zero_rows, :]\n",
    "    problem.b = problem.b[non_zero_rows]\n",
    "    return problem, zero_rows\n",
    "end"
   ]
  },
  {
   "cell_type": "markdown",
   "id": "978ccd56",
   "metadata": {},
   "source": [
    "## Standard Form"
   ]
  },
  {
   "cell_type": "code",
   "execution_count": 15,
   "id": "3c2029fe",
   "metadata": {},
   "outputs": [
    {
     "data": {
      "text/plain": [
       "convert_to_standard_form (generic function with 1 method)"
      ]
     },
     "execution_count": 15,
     "metadata": {},
     "output_type": "execute_result"
    }
   ],
   "source": [
    "function convert_to_standard_form(P)\n",
    "    inf_val = 1.0e300\n",
    "\n",
    "    rows, cols = size(P.A)\n",
    "\n",
    "    unbounded_idx = Int64[]\n",
    "    lower_bounded_idx = Int64[]\n",
    "    upper_bounded_idx = Int64[]\n",
    "    doubly_bounded_idx = Int64[]\n",
    "    n = Int64[0, 0, 0, 0]\n",
    "\n",
    "    for i = 1:cols\n",
    "        if P.lo[i] < -inf_val\n",
    "            if P.hi[i] > inf_val\n",
    "                n[1] += 1\n",
    "                push!(unbounded_idx, i)\n",
    "            else\n",
    "                n[3] += 1\n",
    "                push!(upper_bounded_idx, i)\n",
    "            end\n",
    "        else\n",
    "            if P.hi[i] > inf_val\n",
    "                n[2] += 1\n",
    "                push!(lower_bounded_idx, i)\n",
    "            else\n",
    "                n[4] += 1\n",
    "                push!(doubly_bounded_idx, i)\n",
    "            end\n",
    "        end\n",
    "    end\n",
    "\n",
    "    c_standard = [P.c[unbounded_idx]; -P.c[unbounded_idx]; P.c[lower_bounded_idx];\n",
    "                  -P.c[upper_bounded_idx]; P.c[doubly_bounded_idx]; zeros(n[4])]\n",
    "\n",
    "    A_standard = [P.A[:, unbounded_idx] -P.A[:, unbounded_idx] P.A[:, lower_bounded_idx] -P.A[:, upper_bounded_idx] P.A[:, doubly_bounded_idx] spzeros(rows, n[4]);\n",
    "                  spzeros(n[4], 2 * n[1] + n[2] + n[3]) Matrix{Float64}(I, n[4], n[4]) Matrix{Float64}(I, n[4], n[4])]\n",
    "\n",
    "    b_standard = [P.b - P.A[:, lower_bounded_idx] * P.lo[lower_bounded_idx] - P.A[:, upper_bounded_idx] * P.hi[upper_bounded_idx] - P.A[:, doubly_bounded_idx] * P.lo[doubly_bounded_idx];\n",
    "                  P.hi[doubly_bounded_idx] - P.lo[doubly_bounded_idx]]\n",
    "\n",
    "    return A_standard, b_standard, c_standard, unbounded_idx, lower_bounded_idx, upper_bounded_idx, doubly_bounded_idx\n",
    "end\n"
   ]
  },
  {
   "cell_type": "code",
   "execution_count": 16,
   "id": "36603d78",
   "metadata": {},
   "outputs": [
    {
     "data": {
      "text/plain": [
       "convert_x (generic function with 1 method)"
      ]
     },
     "execution_count": 16,
     "metadata": {},
     "output_type": "execute_result"
    }
   ],
   "source": [
    "function convert_x(P, zero_columns, unbounded_idx, lower_bounded_idx, upper_bounded_idx, doubly_bounded_idx, xs)\n",
    "    m, n = size(P.A)\n",
    "    x1 = Array{Float64}(undef, n)\n",
    "    fill!(x1, Inf)\n",
    "    j = 1\n",
    "    for i = 1:n\n",
    "        if x1[i] == Inf\n",
    "            if i in zero_columns\n",
    "                if P.c[i] > 0\n",
    "                    x1[i] = P.lo[i]\n",
    "                elseif P.c[i] < 0\n",
    "                    x1[i] = P.hi[i]\n",
    "                else\n",
    "                    x1[i] = 0.\n",
    "                end\n",
    "            else\n",
    "                x1[i] = xs[j]\n",
    "                j += 1\n",
    "            end\n",
    "        end\n",
    "    end\n",
    "\n",
    "    n1 = length(unbounded_idx)\n",
    "    n2 = length(lower_bounded_idx)\n",
    "    n3 = length(upper_bounded_idx)\n",
    "    n4 = length(doubly_bounded_idx)\n",
    "\n",
    "    x = zeros(n)\n",
    "\n",
    "    x[unbounded_idx] = x1[1:n1] - x1[1 + n1:2 * n1]\n",
    "    x[lower_bounded_idx] = x1[1 + 2 * n1:n2 + 2 * n1] + P.lo[lower_bounded_idx]\n",
    "    x[upper_bounded_idx] = P.hi[upper_bounded_idx] - x1[1 + 2 * n1 + n2:n3 + 2 * n1 + n2]\n",
    "    x[doubly_bounded_idx] = x1[1 + 2 * n1 + n2 + n3:n4 + 2 * n1 + n2 + n3] + P.lo[doubly_bounded_idx]\n",
    "\n",
    "    return x\n",
    "end\n"
   ]
  },
  {
   "cell_type": "markdown",
   "id": "b3cfb855",
   "metadata": {},
   "source": [
    "## Cholesky Factorization"
   ]
  },
  {
   "cell_type": "code",
   "execution_count": 17,
   "id": "ec2d6141",
   "metadata": {
    "scrolled": true
   },
   "outputs": [
    {
     "data": {
      "text/plain": [
       "get_cholesky_lowtriangle (generic function with 2 methods)"
      ]
     },
     "execution_count": 17,
     "metadata": {},
     "output_type": "execute_result"
    }
   ],
   "source": [
    "function select_modified_cholesky_parameters(A::SparseMatrixCSC{Float64})\n",
    "    beta = sqrt(cond(Matrix(A)))\n",
    "    delta = eps(Float64) * norm(Matrix(A))\n",
    "    return delta, beta\n",
    "end\n",
    "\n",
    "function modified_cholesky(A::SparseMatrixCSC{Float64}, delta::Real, beta::Real)\n",
    "    @assert (n=size(A, 1)) == size(A, 2) \"Input matrix must be a square matrix!\"\n",
    "    \n",
    "    reorder = amd(A)\n",
    "    L = A[reorder,reorder]\n",
    "\n",
    "    d = ones(n)\n",
    "    D = Diagonal(d)\n",
    "        \n",
    "    for i = 1:n-1\n",
    "        theta = maximum(abs.(L[i+1:n, i]))\n",
    "        d[i] = max(abs(L[i, i]), (theta / beta)^2, delta)\n",
    "        L[i:n, i] ./= d[i]\n",
    "        L[i, i] = 1.0\n",
    "        L[i+1:n, i+1:n] .-= d[i] * (L[i+1:n, i] * L[i+1:n, i]')\n",
    "    end\n",
    "\n",
    "    d[n] = max(abs(L[n, n]), delta)\n",
    "    L[n, n] = 1.0\n",
    "\n",
    "    return (L=LowerTriangular(L), D=D, M=L, O=reorder)\n",
    "end\n",
    "\n",
    "function get_cholesky_lowtriangle(matrix, default=true)\n",
    "    if default\n",
    "        return cholesky(matrix)\n",
    "    else\n",
    "        delta, beta = select_modified_cholesky_parameters(matrix)\n",
    "        F = modified_cholesky(matrix, delta, beta)\n",
    "        return F.L\n",
    "    end\n",
    "end"
   ]
  },
  {
   "cell_type": "markdown",
   "id": "6bee4dca",
   "metadata": {},
   "source": [
    "## Starting Point"
   ]
  },
  {
   "cell_type": "code",
   "execution_count": 18,
   "id": "99afeca7",
   "metadata": {},
   "outputs": [
    {
     "data": {
      "text/plain": [
       "starting_point (generic function with 2 methods)"
      ]
     },
     "execution_count": 18,
     "metadata": {},
     "output_type": "execute_result"
    }
   ],
   "source": [
    "function starting_point(P::IplpProblem, default_cholesky=true)\n",
    "    # 4 Steps\n",
    "    # (1) Solving Primal and Dual starting points least squares\n",
    "    # (2) Calculate delta primal and delta dual\n",
    "    # (3) Calculate delta primal hat and delta dual hat\n",
    "    # (4) Get starting point\n",
    "    \n",
    "    symm = P.A*P.A'\n",
    "    if default_cholesky\n",
    "        f = get_cholesky_lowtriangle(symm)\n",
    "    else\n",
    "        f = get_cholesky_lowtriangle(symm, false)\n",
    "    end\n",
    "    \n",
    "    # (1)\n",
    "    # Solve Primal\n",
    "    d = f\\P.b\n",
    "    x_hat = P.A'*d\n",
    "    \n",
    "    # Solve Dual\n",
    "    λ_hat = f\\(P.A*P.c)\n",
    "    s_hat = P.c - P.A'*λ_hat\n",
    "    \n",
    "    # (2)\n",
    "    delta_p = max(-1.5*minimum(x_hat), 0)\n",
    "    delta_d = max(-1.5*minimum(s_hat), 0)\n",
    "    \n",
    "    n = size(x_hat,1)\n",
    "    e = ones(n,1)\n",
    "    \n",
    "    # (3)\n",
    "    x_hat = x_hat + delta_p*e\n",
    "    s_hat = s_hat + delta_d*e\n",
    "\n",
    "    numerator = 0.5 * (x_hat'*s_hat)\n",
    "    delta_p_hat = (numerator / (e'*s_hat))[1]\n",
    "    delta_d_hat = (numerator / (e'*x_hat))[1]\n",
    "\n",
    "    # (4)\n",
    "    x_0 = x_hat + delta_p_hat*e\n",
    "    λ_0 = λ_hat\n",
    "    s_0 = s_hat + delta_d_hat*e\n",
    "\n",
    "    return (x=x_0, λ=λ_0, s=s_0, f=f)\n",
    "end"
   ]
  },
  {
   "cell_type": "markdown",
   "id": "bf1f4c1d",
   "metadata": {},
   "source": [
    "## Predictor-Corrector"
   ]
  },
  {
   "cell_type": "code",
   "execution_count": 19,
   "id": "7602f288",
   "metadata": {},
   "outputs": [
    {
     "data": {
      "text/plain": [
       "select_gamma (generic function with 1 method)"
      ]
     },
     "execution_count": 19,
     "metadata": {},
     "output_type": "execute_result"
    }
   ],
   "source": [
    "function build_kkt_matrix(A, x, s)\n",
    "    m, n = size(A)\n",
    "    zero_mn = spzeros(m, n)\n",
    "    zero_nm = spzeros(n, m)\n",
    "    zero_mm = spzeros(m, m)\n",
    "    zero_nn = spzeros(n, n)\n",
    "\n",
    "    X = spdiagm(0 => x[:, 1])\n",
    "    Identity = Matrix{Float64}(I,n,n)\n",
    "    S = spdiagm(0 => s[:, 1])\n",
    "\n",
    "    M = [zero_mm  A         zero_mn;\n",
    "         A'       zero_nn   Identity;\n",
    "         zero_nm  S         X]\n",
    "\n",
    "    return M\n",
    "end\n",
    "\n",
    "function solve_linear_system(A,x,s,rb,rc,rxs)\n",
    "    KKT = build_kkt_matrix(A, x, s)\n",
    "    f = lu(KKT)\n",
    "    m = length(rb)\n",
    "    n = length(rc)\n",
    "    b = Array{Float64}([-rb; -rc; -rxs])\n",
    "    b = f\\b\n",
    "    dlam = b[1:m]\n",
    "    dx = b[1+m:m+n]\n",
    "    ds = b[1+m+n:m+2*n]\n",
    "    return dlam,dx,ds\n",
    "end\n",
    "\n",
    "function alpha_max(x,dx,hi=1.0)\n",
    "    alpha = hi\n",
    "    for i = 1:length(x)\n",
    "        alpha = dx[i] < 0 ? min(alpha, -x[i] / dx[i]) : alpha\n",
    "    end\n",
    "    if alpha < 0\n",
    "        alpha = Inf\n",
    "    end\n",
    "    alpha = min(alpha,hi)\n",
    "    return alpha\n",
    "end\n",
    "\n",
    "function unbound_check(alpha_p, alpha_d)\n",
    "    if alpha_p > 1e308 || alpha_d > 1e308\n",
    "       return true \n",
    "    end\n",
    "    return false\n",
    "end\n",
    "\n",
    "function select_gamma(P::IplpProblem)\n",
    "    m, n = size(P.A)\n",
    "    problem_size = max(m, n)\n",
    "    \n",
    "    if problem_size <= 100\n",
    "        gamma = 0.01\n",
    "    elseif problem_size <= 1000\n",
    "        gamma = 0.05\n",
    "    else\n",
    "        gamma = 0.1\n",
    "    end\n",
    "    \n",
    "    return gamma\n",
    "end"
   ]
  },
  {
   "cell_type": "code",
   "execution_count": 20,
   "id": "7d85fecc",
   "metadata": {},
   "outputs": [
    {
     "data": {
      "text/plain": [
       "predictor_corrector (generic function with 4 methods)"
      ]
     },
     "execution_count": 20,
     "metadata": {},
     "output_type": "execute_result"
    }
   ],
   "source": [
    "function predictor_corrector(P::IplpProblem, info=true, tol=1e-8, maxit=100)    \n",
    "    iter = 0\n",
    "    SP = starting_point(P)\n",
    "    GAMMA = select_gamma(P) #limit step length\n",
    "    m,n = size(P.A)\n",
    "    \n",
    "    x_0 = copy(SP.x)\n",
    "    λ_0 = copy(SP.λ)\n",
    "    s_0 = copy(SP.s)\n",
    "    \n",
    "    if info\n",
    "        @printf(\"%10s %12s %12s\\n\", \"Iteration\", \"Alpha Prim\", \"Alpha Dual\")\n",
    "        @printf(\"%10d %12.4g %12.4g\\n\", iter, 0., 0.)\n",
    "    end\n",
    "    \n",
    "    x1,λ1,s1,flag = vec([0.]),vec([0.]),vec([0.]),false\n",
    "    \n",
    "    for iter=1:maxit\n",
    "        # Residuals for primal feasibility       rb\n",
    "        #               dual feasibility         rc\n",
    "        #               complementary slackness  rxs\n",
    "        rb  = P.A*x_0-P.b\n",
    "        rc  = P.A'*λ_0+s_0-P.c\n",
    "        rxs = x_0.*s_0\n",
    "\n",
    "        # Predictor\n",
    "        λ_aff,x_aff,s_aff = solve_linear_system(P.A,x_0,s_0,rb,rc,rxs) # direction\n",
    "        alpha_aff_primal  = alpha_max(x_0,x_aff) # step lengths\n",
    "        alpha_aff_dual = alpha_max(s_0,s_aff)\n",
    "        \n",
    "        # Corrector\n",
    "        μ = mean(rxs)\n",
    "        μ_affine = sum((x_0 .+ alpha_aff_primal .* x_aff) .* (s_0 .+ alpha_aff_dual .* s_aff)) / n\n",
    "        σ = (μ_affine/μ)^3 # centering parameter\n",
    "        rxs = x_aff.*s_aff.-σ*μ\n",
    "        λ_cc,x_cc,s_cc = solve_linear_system(P.A,x_0,s_0,spzeros(m),spzeros(n),rxs)\n",
    "\n",
    "        # Combine to find search direction\n",
    "        direction_x = x_aff+x_cc\n",
    "        direction_λ = λ_aff+λ_cc\n",
    "        direction_s = s_aff+s_cc\n",
    "        \n",
    "        # Finding the max step length it can take \n",
    "        # Find max allowable step len Wright Chapter 4\n",
    "        alpha_max_pri, alpha_max_dual = alpha_max(x_0, direction_x, Inf), alpha_max(s_0, direction_s, Inf)\n",
    "        \n",
    "        # Wright P205 Chapter 10\n",
    "        x1_pri, s1_dual = x_0 + alpha_max_pri * direction_x, s_0 + alpha_max_dual * direction_s\n",
    "        μp= dot(x1_pri, s1_dual) / n\n",
    "        f_prim = (GAMMA * μp / s1_dual[argmin(x1_pri)] - x_0[argmin(x1_pri)]) / alpha_max_pri / direction_x[argmin(x1_pri)]\n",
    "        f_dual = (GAMMA * μp / x1_pri[argmin(s1_dual)] - s_0[argmin(s1_dual)]) / alpha_max_dual / direction_s[argmin(s1_dual)]\n",
    "        alpha_pri, alpha_dual = max(1 - GAMMA, f_prim) * alpha_max_pri, max(1 - GAMMA, f_dual) * alpha_max_dual\n",
    "\n",
    "        \n",
    "        # Unboundness check\n",
    "        if unbound_check(alpha_pri, alpha_dual)\n",
    "            warn(\"This problem is unbounded\")\n",
    "            return x1,λ1,s1,false,iter\n",
    "        end\n",
    "        \n",
    "        # Take the step\n",
    "        x1 = x_0+alpha_pri*direction_x\n",
    "        λ1 = λ_0+alpha_dual*direction_λ\n",
    "        s1 = s_0+alpha_dual*direction_s\n",
    "        x_0 = x1\n",
    "        λ_0 = λ1\n",
    "        s_0 = s1\n",
    "        \n",
    "        if info\n",
    "            @printf(\"%10d %12.4g %12.4g\\n\", iter, alpha_pri, alpha_dual)\n",
    "        end\n",
    "        \n",
    "        r1 = norm(P.A*x1-P.b)/(1+norm(P.b))\n",
    "        r2 = norm(P.A'*λ1+s1-P.c)/(1+norm(P.c))\n",
    "        r3 = abs(dot(P.c,x1)-dot(P.b,λ1))/(1+abs(dot(P.c,x1)))\n",
    "        if r1 < tol && r2 < tol && r3 < tol\n",
    "            flag = true\n",
    "            break\n",
    "        end\n",
    "    end\n",
    "    \n",
    "    return x1,λ1,s1,flag\n",
    "end"
   ]
  },
  {
   "cell_type": "code",
   "execution_count": 34,
   "id": "ee0e0f03",
   "metadata": {},
   "outputs": [
    {
     "data": {
      "text/plain": [
       "iplp (generic function with 4 methods)"
      ]
     },
     "execution_count": 34,
     "metadata": {},
     "output_type": "execute_result"
    }
   ],
   "source": [
    "function iplp(P::IplpProblem, info=true, tol=1e-8, maxit=100)\n",
    "    P, zero_columns = remove_zero_columns(P)\n",
    "    P, zero_rows = remove_zero_rows(P)\n",
    "    As, bs, cs, bound1, bound2, bound3, bound4 = convert_to_standard_form(P)\n",
    "    stdpb = IplpProblem(vec(cs), As, vec(bs), vec(P.lo), vec(P.hi))\n",
    "    # Check Infeasibility\n",
    "    @printf(\"===================Infeasible Check=====================\\n\")\n",
    "    m,n = size(stdpb.A)\n",
    "    A = [stdpb.A Matrix{Float64}(I,m,m)]\n",
    "    b = copy(stdpb.b)\n",
    "    c = [zeros(Float64, n); ones(Float64, m)]\n",
    "    check_target = IplpProblem(c, A, b, vec(P.lo), vec(P.hi))\n",
    "    check_x = predictor_corrector(check_target, false)[1]\n",
    "    if abs(dot(c, check_x)) > 1e-8\n",
    "        @printf(\"Infeasible LP Problem!\\n\")\n",
    "        return IplpSolution(vec([0.]),false,vec(c),A,vec(b),vec([0.]),vec([0.]),vec([0.])), -1\n",
    "    else\n",
    "        @printf(\"Feasible LP Problem.\\n\")\n",
    "    end\n",
    "        \n",
    "    if info\n",
    "        @printf(\"\\n=======================Solution=========================\\n\")\n",
    "        @printf(\"The problem is feasible, finding solution now...\\n\")\n",
    "        x_sol,λ_sol,s_sol,flag = predictor_corrector(stdpb)\n",
    "    else\n",
    "        x_sol,λ_sol,s_sol,flag = predictor_corrector(stdpb,false)\n",
    "    end\n",
    "    \n",
    "    x = convert_x(P, zero_columns, bound1, bound2, bound3, bound4, x_sol)\n",
    "    @show size(P.A)\n",
    "    @show size(stdpb.A)\n",
    "    @show size(x)\n",
    "    @show size(x_sol)\n",
    "\n",
    "    op_val = dot(P.c, x)\n",
    "    if info\n",
    "        @printf(\"Optimal Value: %.5f.\\n\", op_val)\n",
    "    end\n",
    "        \n",
    "    return IplpSolution(vec(x),flag,vec(stdpb.c),stdpb.A,vec(stdpb.b),vec(x_sol),vec(λ_sol),vec(s_sol)), op_val\n",
    "end"
   ]
  },
  {
   "cell_type": "code",
   "execution_count": 35,
   "id": "1984cf2b",
   "metadata": {},
   "outputs": [
    {
     "data": {
      "text/plain": [
       "prompt_test (generic function with 2 methods)"
      ]
     },
     "execution_count": 35,
     "metadata": {},
     "output_type": "execute_result"
    }
   ],
   "source": [
    "function get_correct_ov(problem_name)\n",
    "    if occursin(\"lpi\", problem_name)\n",
    "       return Inf\n",
    "    end\n",
    "    md_info = split(Markdown.plain(mdinfo(\"LPnetlib/\" * problem_name)), \"\\n\")\n",
    "    header_line = \"Name       Rows   Cols   Nonzeros    Bytes  BR      Optimal Value\"\n",
    "    header_idx = -1\n",
    "    summary = \"\"\n",
    "    for i in 1:length(md_info)\n",
    "        if occursin(header_line, md_info[i])\n",
    "            header_idx = i\n",
    "            break\n",
    "        end\n",
    "    end\n",
    "    \n",
    "    summary = strip(md_info[header_idx+1], ['*',  ' '])\n",
    "    pattern = r\"(\\S+)\\s+(\\d+)\\s+(\\d+)\\s+(\\d+)\\s+(\\d+)\\s+(\\S{0,1})\\s+(-?\\d+\\.\\d+E[+-]\\d+)\"\n",
    "    m = match(pattern, summary)\n",
    "    if m !== nothing\n",
    "        parsed_dict = Dict(\n",
    "            \"Name\" => m.captures[1],\n",
    "            \"Rows\" => parse(Int, m.captures[2]),\n",
    "            \"Cols\" => parse(Int, m.captures[3]),\n",
    "            \"Nonzeros\" => parse(Int, m.captures[4]),\n",
    "            \"Bytes\" => parse(Int, m.captures[5]),\n",
    "            \"BR\" => m.captures[6],\n",
    "            \"OV\" => parse(Float64, m.captures[7])\n",
    "        )\n",
    "    else\n",
    "        println(\"No match found\")\n",
    "        parsed_dict = nothing\n",
    "    end\n",
    "\n",
    "    return parsed_dict[\"OV\"]   \n",
    "end\n",
    "\n",
    "function test(problem_name::String, info=true)\n",
    "    md = mdopen(\"LPnetlib/\" * problem_name)\n",
    "    pb = convert_matrixdepot(md)\n",
    "    correct_ov = get_correct_ov(problem_name)\n",
    "\n",
    "    solution, op_val = @time iplp(pb, info)\n",
    "    \n",
    "    if solution.flag\n",
    "        @printf(\"Solution found.\\n\")\n",
    "    else\n",
    "        @printf(\"Not solution found after max iteration.\\n\")\n",
    "    end\n",
    "    \n",
    "    @printf(\"======================Comparison========================\\n\")\n",
    "    \n",
    "    if (correct_ov != Inf && !solution.flag) || (correct_ov == Inf && solution.flag)\n",
    "        println(\"Not matched with correct result\")\n",
    "    else\n",
    "        if correct_ov == Inf\n",
    "            println(\"Successfully detect infeasibility\")\n",
    "        else\n",
    "            println(\"Checking difference...\")\n",
    "            diff = correct_ov-op_val\n",
    "            absolute_diff = abs(diff)\n",
    "            relative_diff = abs(diff/correct_ov)\n",
    "            if info\n",
    "                println(\"Absolute difference: \", absolute_diff)\n",
    "                println(\"Relative difference: \", relative_diff)\n",
    "            end\n",
    "            \n",
    "            if relative_diff < 1e-3\n",
    "                println(\"Result is consistent with correct optimal value\")\n",
    "            else\n",
    "                println(\"Result is wrong\")\n",
    "            end\n",
    "        end\n",
    "        \n",
    "    end\n",
    "    \n",
    "    return (cov=correct_ov, op=op_val)\n",
    "end\n",
    "\n",
    "function prompt_test(info=true)\n",
    "    @printf(\"Which test problem would you like to solve? \\n(Input as: lp_afiro, etc)\\n\")\n",
    "    problem_name = readline()\n",
    "    test(problem_name, info)\n",
    "end"
   ]
  },
  {
   "cell_type": "code",
   "execution_count": 44,
   "id": "dca28db0",
   "metadata": {},
   "outputs": [
    {
     "name": "stdout",
     "output_type": "stream",
     "text": [
      "Which test problem would you like to solve? \n",
      "(Input as: lp_afiro, etc)\n",
      "stdin> lp_standata\n",
      "===================Infeasible Check=====================\n",
      "Feasible LP Problem.\n",
      "\n",
      "=======================Solution=========================\n",
      "The problem is feasible, finding solution now...\n",
      " Iteration   Alpha Prim   Alpha Dual\n",
      "         0            0            0\n",
      "         1       0.6563        1.155\n",
      "         2       0.8504        1.598\n",
      "         3       0.8311       0.9713\n",
      "         4       0.6058       0.3487\n",
      "         5       0.3539      0.07587\n",
      "         6       0.1895       0.1917\n",
      "         7       0.3213       0.1869\n",
      "         8       0.3867       0.3111\n",
      "         9       0.1443       0.1174\n",
      "        10      0.08947      0.07143\n",
      "        11       0.1465      0.08034\n",
      "        12       0.8368       0.6012\n",
      "        13       0.8854        0.996\n",
      "        14        0.999       0.9999\n",
      "        15            1            1\n",
      "size(P.A) = (359, 1274)\n",
      "size(stdpb.A) = (479, 1394)\n",
      "size(x) = (1274,)\n",
      "size(x_sol) = (1394, 1)\n",
      "Optimal Value: 1257.69950.\n",
      "  2.066775 seconds (25.85 k allocations: 2.114 GiB, 11.18% gc time)\n",
      "Solution found.\n",
      "======================Comparison========================\n",
      "Checking difference...\n",
      "Absolute difference: 2.2737367544323206e-13\n",
      "Relative difference: 1.8078537476021266e-16\n",
      "Result is consistent with correct optimal value\n"
     ]
    },
    {
     "data": {
      "text/plain": [
       "(cov = 1257.6995, op = 1257.6995000000002)"
      ]
     },
     "execution_count": 44,
     "metadata": {},
     "output_type": "execute_result"
    }
   ],
   "source": [
    "prompt_test()"
   ]
  },
  {
   "cell_type": "code",
   "execution_count": 37,
   "id": "3ca30a54",
   "metadata": {},
   "outputs": [],
   "source": [
    "problems = [\"lp_afiro\",\"lp_brandy\",\"lp_fit1d\",\"lp_adlittle\",\n",
    "            \"lp_agg\",\"lp_ganges\",\"lp_stocfor1\", \"lp_25fv47\", \"lpi_chemcom\"];"
   ]
  },
  {
   "cell_type": "code",
   "execution_count": 38,
   "id": "667ce4b9",
   "metadata": {},
   "outputs": [
    {
     "name": "stdout",
     "output_type": "stream",
     "text": [
      "-> Testing: lp_afiro\n",
      "===================Infeasible Check=====================\n",
      "Feasible LP Problem.\n",
      "size(P.A) = (27, 51)\n",
      "size(stdpb.A) = (27, 51)\n",
      "size(x) = (51,)\n",
      "size(x_sol) = (51, 1)\n",
      "  0.017102 seconds (7.93 k allocations: 8.185 MiB)\n",
      "Solution found.\n",
      "======================Comparison========================\n",
      "Checking difference...\n",
      "Result is consistent with correct optimal value\n",
      "-464.7531428571428\n",
      "--------------------\n",
      "-> Testing: lp_brandy\n",
      "===================Infeasible Check=====================\n",
      "Feasible LP Problem.\n",
      "size(P.A) = (193, 303)\n",
      "size(stdpb.A) = (193, 303)\n",
      "size(x) = (303,)\n",
      "size(x_sol) = (303, 1)\n",
      "  0.548205 seconds (22.17 k allocations: 273.142 MiB, 6.07% gc time)\n",
      "Solution found.\n",
      "======================Comparison========================\n",
      "Checking difference...\n",
      "Result is consistent with correct optimal value\n",
      "1518.5098964881429\n",
      "--------------------\n",
      "-> Testing: lp_fit1d\n",
      "===================Infeasible Check=====================\n",
      "Feasible LP Problem.\n",
      "size(P.A) = (24, 1049)\n",
      "size(stdpb.A) = (1050, 2075)\n",
      "size(x) = (1049,)\n",
      "size(x_sol) = (2075, 1)\n",
      "  3.366842 seconds (22.46 k allocations: 3.049 GiB, 10.63% gc time)\n",
      "Solution found.\n",
      "======================Comparison========================\n",
      "Checking difference...\n",
      "Result is consistent with correct optimal value\n",
      "-9146.378089315012\n",
      "--------------------\n",
      "-> Testing: lp_adlittle\n",
      "===================Infeasible Check=====================\n",
      "Feasible LP Problem.\n",
      "size(P.A) = (56, 138)\n",
      "size(stdpb.A) = (56, 138)\n",
      "size(x) = (138,)\n",
      "size(x_sol) = (138, 1)\n",
      "  0.049717 seconds (10.16 k allocations: 33.156 MiB)\n",
      "Solution found.\n",
      "======================Comparison========================\n",
      "Checking difference...\n",
      "Result is consistent with correct optimal value\n",
      "225494.9631824746\n",
      "--------------------\n",
      "-> Testing: lp_agg\n",
      "===================Infeasible Check=====================\n",
      "Feasible LP Problem.\n",
      "size(P.A) = (488, 615)\n",
      "size(stdpb.A) = (488, 615)\n",
      "size(x) = (615,)\n",
      "size(x_sol) = (615, 1)\n",
      "  2.076573 seconds (35.99 k allocations: 913.177 MiB, 4.03% gc time)\n",
      "Solution found.\n",
      "======================Comparison========================\n",
      "Checking difference...\n",
      "Result is consistent with correct optimal value\n",
      "-3.599176728657632e7\n",
      "--------------------\n",
      "-> Testing: lp_ganges\n",
      "===================Infeasible Check=====================\n",
      "Feasible LP Problem.\n",
      "size(P.A) = (1309, 1706)\n",
      "size(stdpb.A) = (1706, 2103)\n",
      "size(x) = (1706,)\n",
      "size(x_sol) = (2103, 1)\n",
      "  4.151693 seconds (25.87 k allocations: 4.273 GiB, 12.51% gc time)\n",
      "Solution found.\n",
      "======================Comparison========================\n",
      "Checking difference...\n",
      "Result is consistent with correct optimal value\n",
      "-109585.73612107182\n",
      "--------------------\n",
      "-> Testing: lp_stocfor1\n",
      "===================Infeasible Check=====================\n",
      "Feasible LP Problem.\n",
      "size(P.A) = (117, 165)\n",
      "size(stdpb.A) = (117, 165)\n",
      "size(x) = (165,)\n",
      "size(x_sol) = (165, 1)\n",
      "  0.180310 seconds (15.51 k allocations: 69.221 MiB, 8.74% gc time)\n",
      "Solution found.\n",
      "======================Comparison========================\n",
      "Checking difference...\n",
      "Result is consistent with correct optimal value\n",
      "-41131.976219436394\n",
      "--------------------\n",
      "-> Testing: lp_25fv47\n",
      "===================Infeasible Check=====================\n",
      "Feasible LP Problem.\n",
      "size(P.A) = (820, 1876)\n",
      "size(stdpb.A) = (820, 1876)\n",
      "size(x) = (1876,)\n",
      "size(x_sol) = (1876, 1)\n",
      "  8.303194 seconds (33.63 k allocations: 4.569 GiB, 6.12% gc time)\n",
      "Solution found.\n",
      "======================Comparison========================\n",
      "Checking difference...\n",
      "Result is consistent with correct optimal value\n",
      "5501.8458882870345\n",
      "--------------------\n",
      "-> Testing: lpi_chemcom\n",
      "===================Infeasible Check=====================\n",
      "Infeasible LP Problem!\n",
      "  0.439632 seconds (8.93 k allocations: 405.525 MiB, 9.88% gc time)\n",
      "Not solution found after max iteration.\n",
      "======================Comparison========================\n",
      "Successfully detect infeasibility\n",
      "-1\n",
      "--------------------\n"
     ]
    }
   ],
   "source": [
    "for problem_name in problems\n",
    "    try\n",
    "        println(\"-> Testing: \", problem_name)\n",
    "        D = test(problem_name, false)\n",
    "        println(D.op)\n",
    "    catch e\n",
    "        println(\"An error occurred: \", e)\n",
    "    end\n",
    "    println(\"--------------------\")\n",
    "end"
   ]
  },
  {
   "cell_type": "code",
   "execution_count": null,
   "id": "319f3fab",
   "metadata": {},
   "outputs": [],
   "source": [
    "test(\"lp_ganges\")"
   ]
  },
  {
   "cell_type": "code",
   "execution_count": null,
   "id": "eb40bc97",
   "metadata": {},
   "outputs": [],
   "source": []
  },
  {
   "cell_type": "code",
   "execution_count": null,
   "id": "5b9307c6",
   "metadata": {},
   "outputs": [],
   "source": []
  },
  {
   "cell_type": "code",
   "execution_count": null,
   "id": "50873b5e",
   "metadata": {},
   "outputs": [],
   "source": []
  },
  {
   "cell_type": "code",
   "execution_count": null,
   "id": "e9e26a7b",
   "metadata": {},
   "outputs": [],
   "source": []
  },
  {
   "cell_type": "code",
   "execution_count": null,
   "id": "beb64f8e",
   "metadata": {},
   "outputs": [],
   "source": []
  },
  {
   "cell_type": "code",
   "execution_count": null,
   "id": "f536f789",
   "metadata": {},
   "outputs": [],
   "source": []
  }
 ],
 "metadata": {
  "@webio": {
   "lastCommId": null,
   "lastKernelId": null
  },
  "kernelspec": {
   "display_name": "Julia 1.8.5",
   "language": "julia",
   "name": "julia-1.8"
  },
  "language_info": {
   "file_extension": ".jl",
   "mimetype": "application/julia",
   "name": "julia",
   "version": "1.8.5"
  }
 },
 "nbformat": 4,
 "nbformat_minor": 5
}
