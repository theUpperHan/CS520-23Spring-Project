{
 "cells": [
  {
   "cell_type": "markdown",
   "id": "d1ab2ce7",
   "metadata": {},
   "source": [
    "# CS 520 Final Project"
   ]
  },
  {
   "cell_type": "markdown",
   "id": "a90d3cb4",
   "metadata": {},
   "source": [
    "## Packages & Data Structures"
   ]
  },
  {
   "cell_type": "code",
   "execution_count": 1,
   "id": "1052c3ad",
   "metadata": {},
   "outputs": [
    {
     "name": "stderr",
     "output_type": "stream",
     "text": [
      "\u001b[36m\u001b[1m[ \u001b[22m\u001b[39m\u001b[36m\u001b[1mInfo: \u001b[22m\u001b[39mverify download of index files...\n",
      "\u001b[36m\u001b[1m[ \u001b[22m\u001b[39m\u001b[36m\u001b[1mInfo: \u001b[22m\u001b[39mreading database\n",
      "\u001b[36m\u001b[1m[ \u001b[22m\u001b[39m\u001b[36m\u001b[1mInfo: \u001b[22m\u001b[39madding metadata...\n",
      "\u001b[36m\u001b[1m[ \u001b[22m\u001b[39m\u001b[36m\u001b[1mInfo: \u001b[22m\u001b[39madding svd data...\n",
      "\u001b[36m\u001b[1m[ \u001b[22m\u001b[39m\u001b[36m\u001b[1mInfo: \u001b[22m\u001b[39mwriting database\n",
      "\u001b[36m\u001b[1m[ \u001b[22m\u001b[39m\u001b[36m\u001b[1mInfo: \u001b[22m\u001b[39mused remote sites are sparse.tamu.edu with MAT index and math.nist.gov with HTML index\n"
     ]
    }
   ],
   "source": [
    "using MatrixDepot, SparseArrays, AMD, LinearAlgebra, Statistics, Printf, JuMP, GLPK"
   ]
  },
  {
   "cell_type": "code",
   "execution_count": 2,
   "id": "f6e078bb",
   "metadata": {},
   "outputs": [
    {
     "data": {
      "text/plain": [
       "convert_matrixdepot (generic function with 1 method)"
      ]
     },
     "execution_count": 2,
     "metadata": {},
     "output_type": "execute_result"
    }
   ],
   "source": [
    "mutable struct IplpSolution\n",
    "  x::Vector{Float64} # the solution vector \n",
    "  flag::Bool         # a true/false flag indicating convergence or not\n",
    "  cs::Vector{Float64} # the objective vector in standard form\n",
    "  As::SparseMatrixCSC{Float64} # the constraint matrix in standard form\n",
    "  bs::Vector{Float64} # the right hand side (b) in standard form\n",
    "  xs::Vector{Float64} # the solution in standard form\n",
    "  lam::Vector{Float64} # the solution lambda in standard form\n",
    "  s::Vector{Float64} # the solution s in standard form\n",
    "end\n",
    "\n",
    "mutable struct IplpProblem\n",
    "  c::Vector{Float64}\n",
    "  A::SparseMatrixCSC{Float64} \n",
    "  b::Vector{Float64}\n",
    "  lo::Vector{Float64}\n",
    "  hi::Vector{Float64}\n",
    "end\n",
    "\n",
    "function convert_matrixdepot(P::MatrixDepot.MatrixDescriptor)\n",
    "  # key_base = sort(collect(keys(mmmeta)))[1]\n",
    "  return IplpProblem(\n",
    "    vec(P.c), P.A, vec(P.b), vec(P.lo), vec(P.hi))\n",
    "end"
   ]
  },
  {
   "cell_type": "markdown",
   "id": "657cde72",
   "metadata": {},
   "source": [
    "## Presolve"
   ]
  },
  {
   "cell_type": "code",
   "execution_count": 3,
   "id": "6f82aa7a",
   "metadata": {},
   "outputs": [
    {
     "data": {
      "text/plain": [
       "remove_zero_rows (generic function with 1 method)"
      ]
     },
     "execution_count": 3,
     "metadata": {},
     "output_type": "execute_result"
    }
   ],
   "source": [
    "function remove_zero_columns(problem::IplpProblem)\n",
    "    zero_columns = findall(sum(problem.A .!= 0, dims=1)[:] .== 0)\n",
    "\n",
    "    # Deduce solution values x_i\n",
    "    x_values = zeros(length(problem.c))\n",
    "    for col in zero_columns\n",
    "        if problem.c[col] < 0\n",
    "            if problem.hi[col] == Inf\n",
    "                return :unbounded\n",
    "            else\n",
    "                x_values[col] = problem.hi[col]\n",
    "            end\n",
    "        elseif problem.c[col] > 0\n",
    "            x_values[col] = problem.lo[col]\n",
    "        end\n",
    "    end\n",
    "\n",
    "    # Remove zero columns from A\n",
    "    problem.A = problem.A[:, setdiff(1:size(problem.A, 2), zero_columns)]\n",
    "\n",
    "    # Adjust the objective function coefficients and bounds\n",
    "    problem.c = problem.c[setdiff(1:length(problem.c), zero_columns)]\n",
    "    problem.lo = problem.lo[setdiff(1:length(problem.lo), zero_columns)]\n",
    "    problem.hi = problem.hi[setdiff(1:length(problem.hi), zero_columns)]\n",
    "\n",
    "    # Adjust the constraint vector b\n",
    "    problem.b -= problem.A * x_values[setdiff(1:length(x_values), zero_columns)]\n",
    "\n",
    "    return problem\n",
    "end\n",
    "\n",
    "function remove_zero_rows(problem::IplpProblem)\n",
    "    zero_rows = findall(sum(problem.A .!= 0, dims=2)[:] .== 0)\n",
    "    non_zero_rows = setdiff(1:size(problem.A, 1), zero_rows)\n",
    "    problem.A = problem.A[non_zero_rows, :]\n",
    "    problem.b = problem.b[non_zero_rows]\n",
    "    return problem\n",
    "end"
   ]
  },
  {
   "cell_type": "markdown",
   "id": "978ccd56",
   "metadata": {},
   "source": [
    "## Standard Form"
   ]
  },
  {
   "cell_type": "code",
   "execution_count": 4,
   "id": "3c2029fe",
   "metadata": {},
   "outputs": [
    {
     "data": {
      "text/plain": [
       "convert_to_standard_form (generic function with 1 method)"
      ]
     },
     "execution_count": 4,
     "metadata": {},
     "output_type": "execute_result"
    }
   ],
   "source": [
    "function convert_to_standard_form(P::IplpProblem)\n",
    "    inf = 1.0e300\n",
    "    m, n0 = size(P.A)\n",
    "\n",
    "    # Initialize new matrices and vectors\n",
    "    A_new = spzeros(m, 0)\n",
    "    c_new = Vector{Float64}()\n",
    "\n",
    "    for i in 1:n0\n",
    "        lo_inf = P.lo[i] < -inf\n",
    "        hi_inf = P.hi[i] > inf\n",
    "\n",
    "        if lo_inf && hi_inf\n",
    "            # x_i is unbounded: introduce x_i_pos and x_i_neg\n",
    "            A_new = [A_new P.A[:, i] -P.A[:, i]]\n",
    "            append!(c_new, [P.c[i], -P.c[i]])\n",
    "        elseif lo_inf\n",
    "            # x_i has an upper bound only: negate x_i\n",
    "            A_new = [A_new -P.A[:, i]]\n",
    "            append!(c_new, -P.c[i])\n",
    "        else\n",
    "            # x_i has a lower bound (or both): shift x_i\n",
    "            A_new = [A_new P.A[:, i]]\n",
    "            append!(c_new, P.c[i])\n",
    "            P.b -= P.A[:, i] * P.lo[i]\n",
    "        end\n",
    "    end\n",
    "\n",
    "    # Add slack variables for bounded variables\n",
    "    idx_bounded = findall(x -> x > -inf && x < inf, P.hi)\n",
    "    A_new = [A_new spzeros(m, length(idx_bounded))]\n",
    "    c_new = vcat(c_new, zeros(length(idx_bounded)))\n",
    "    I_bounded = Matrix{Float64}(I, length(idx_bounded), length(idx_bounded))\n",
    "\n",
    "    As = [A_new; spzeros(length(idx_bounded), n0) I_bounded]\n",
    "    bs = vcat(P.b, P.hi[idx_bounded] - P.lo[idx_bounded])\n",
    "    cs = c_new\n",
    "\n",
    "    lo_new = zeros(size(As, 2))\n",
    "    hi_new = ones(size(As, 2)) * inf\n",
    "    standard_form_ip = IplpProblem(cs, As, bs, lo_new, hi_new)\n",
    "\n",
    "    return standard_form_ip\n",
    "end"
   ]
  },
  {
   "cell_type": "markdown",
   "id": "b3cfb855",
   "metadata": {},
   "source": [
    "## Cholesky Factorization"
   ]
  },
  {
   "cell_type": "code",
   "execution_count": 5,
   "id": "ec2d6141",
   "metadata": {
    "scrolled": true
   },
   "outputs": [
    {
     "data": {
      "text/plain": [
       "get_cholesky_lowtriangle (generic function with 2 methods)"
      ]
     },
     "execution_count": 5,
     "metadata": {},
     "output_type": "execute_result"
    }
   ],
   "source": [
    "function select_modified_cholesky_parameters(A::SparseMatrixCSC{Float64})\n",
    "    beta = sqrt(cond(Matrix(A)))\n",
    "    delta = eps(Float64) * norm(Matrix(A))\n",
    "    return delta, beta\n",
    "end\n",
    "\n",
    "function modified_cholesky(A::SparseMatrixCSC{Float64}, delta::Real, beta::Real)\n",
    "    @assert (n=size(A, 1)) == size(A, 2) \"Input matrix must be a square matrix!\"\n",
    "    \n",
    "    reorder = amd(A)\n",
    "    L = A[reorder,reorder]\n",
    "\n",
    "    d = ones(n)\n",
    "    D = Diagonal(d)\n",
    "        \n",
    "    for i = 1:n-1\n",
    "        theta = maximum(abs.(L[i+1:n, i]))\n",
    "        d[i] = max(abs(L[i, i]), (theta / beta)^2, delta)\n",
    "        L[i:n, i] ./= d[i]\n",
    "        L[i, i] = 1.0\n",
    "        L[i+1:n, i+1:n] .-= d[i] * (L[i+1:n, i] * L[i+1:n, i]')\n",
    "    end\n",
    "\n",
    "    d[n] = max(abs(L[n, n]), delta)\n",
    "    L[n, n] = 1.0\n",
    "\n",
    "    return (L=LowerTriangular(L), D=D, M=L, O=reorder)\n",
    "end\n",
    "\n",
    "function get_cholesky_lowtriangle(matrix, default=true)\n",
    "    if default\n",
    "        return cholesky(matrix)\n",
    "    else\n",
    "        delta, beta = select_modified_cholesky_parameters(matrix)\n",
    "        F = modified_cholesky(matrix, delta, beta)\n",
    "        return F.L\n",
    "    end\n",
    "end"
   ]
  },
  {
   "cell_type": "markdown",
   "id": "6bee4dca",
   "metadata": {},
   "source": [
    "## Starting Point"
   ]
  },
  {
   "cell_type": "code",
   "execution_count": 6,
   "id": "99afeca7",
   "metadata": {},
   "outputs": [
    {
     "data": {
      "text/plain": [
       "starting_point (generic function with 2 methods)"
      ]
     },
     "execution_count": 6,
     "metadata": {},
     "output_type": "execute_result"
    }
   ],
   "source": [
    "function starting_point(P::IplpProblem, default_cholesky=true)\n",
    "    # 4 Steps\n",
    "    # (1) Solving Primal and Dual starting points least squares\n",
    "    # (2) Calculate delta primal and delta dual\n",
    "    # (3) Calculate delta primal hat and delta dual hat\n",
    "    # (4) Get starting point\n",
    "    \n",
    "    symm = P.A*P.A'\n",
    "    if default_cholesky\n",
    "        f = get_cholesky_lowtriangle(symm)\n",
    "    else\n",
    "        f = get_cholesky_lowtriangle(symm, false)\n",
    "    end\n",
    "    \n",
    "    # (1)\n",
    "    # Solve Primal\n",
    "    d = f\\P.b\n",
    "    x_hat = P.A'*d\n",
    "    \n",
    "    # Solve Dual\n",
    "    λ_hat = f\\(P.A*P.c)\n",
    "    s_hat = P.c - P.A'*λ_hat\n",
    "    \n",
    "    # (2)\n",
    "    delta_p = max(-1.5*minimum(x_hat), 0)\n",
    "    delta_d = max(-1.5*minimum(s_hat), 0)\n",
    "    \n",
    "    n = size(x_hat,1)\n",
    "    e = ones(n,1)\n",
    "    \n",
    "    # (3)\n",
    "    x_hat = x_hat + delta_p*e\n",
    "    s_hat = s_hat + delta_d*e\n",
    "\n",
    "    numerator = 0.5 * (x_hat'*s_hat)\n",
    "    delta_p_hat = (numerator / (e'*s_hat))[1]\n",
    "    delta_d_hat = (numerator / (e'*x_hat))[1]\n",
    "\n",
    "    # (4)\n",
    "    x_0 = x_hat + delta_p_hat*e\n",
    "    λ_0 = λ_hat\n",
    "    s_0 = s_hat + delta_d_hat*e\n",
    "\n",
    "    return (x=x_0, λ=λ_0, s=s_0, f=f)\n",
    "end"
   ]
  },
  {
   "cell_type": "markdown",
   "id": "bf1f4c1d",
   "metadata": {},
   "source": [
    "## Predictor-Corrector"
   ]
  },
  {
   "cell_type": "code",
   "execution_count": 7,
   "id": "7602f288",
   "metadata": {},
   "outputs": [
    {
     "data": {
      "text/plain": [
       "select_gamma (generic function with 1 method)"
      ]
     },
     "execution_count": 7,
     "metadata": {},
     "output_type": "execute_result"
    }
   ],
   "source": [
    "function build_kkt_matrix(A, x, s)\n",
    "    m, n = size(A)\n",
    "    zero_mn = spzeros(m, n)\n",
    "    zero_nm = spzeros(n, m)\n",
    "    zero_mm = spzeros(m, m)\n",
    "    zero_nn = spzeros(n, n)\n",
    "\n",
    "    X = spdiagm(0 => x[:, 1])\n",
    "    Identity = Matrix{Float64}(I,n,n)\n",
    "    S = spdiagm(0 => s[:, 1])\n",
    "\n",
    "    M = [zero_mm  A         zero_mn;\n",
    "         A'       zero_nn   Identity;\n",
    "         zero_nm  S         X]\n",
    "\n",
    "    return M\n",
    "end\n",
    "\n",
    "function solve_linear_system(A,x,s,rb,rc,rxs)\n",
    "    KKT = build_kkt_matrix(A, x, s)\n",
    "    f = lu(KKT)\n",
    "    m = length(rb)\n",
    "    n = length(rc)\n",
    "    b = Array{Float64}([-rb; -rc; -rxs])\n",
    "    b = f\\b\n",
    "    dlam = b[1:m]\n",
    "    dx = b[1+m:m+n]\n",
    "    ds = b[1+m+n:m+2*n]\n",
    "    return dlam,dx,ds\n",
    "end\n",
    "\n",
    "function alpha_max(x,dx,hi=1.0)\n",
    "    alpha = hi\n",
    "    for i = 1:length(x)\n",
    "        alpha = dx[i] < 0 ? min(alpha, -x[i] / dx[i]) : alpha\n",
    "    end\n",
    "    if alpha < 0\n",
    "        alpha = Inf\n",
    "    end\n",
    "    alpha = min(alpha,hi)\n",
    "    return alpha\n",
    "end\n",
    "\n",
    "function unbound_check(alpha_p, alpha_d)\n",
    "    if alpha_p > 1e308 || alpha_d > 1e308\n",
    "       return true \n",
    "    end\n",
    "    return false\n",
    "end\n",
    "\n",
    "function select_gamma(P::IplpProblem)\n",
    "    m, n = size(P.A)\n",
    "    problem_size = max(m, n)\n",
    "    \n",
    "    if problem_size <= 100\n",
    "        gamma = 0.01\n",
    "    elseif problem_size <= 1000\n",
    "        gamma = 0.05\n",
    "    else\n",
    "        gamma = 0.1\n",
    "    end\n",
    "    \n",
    "    return gamma\n",
    "end"
   ]
  },
  {
   "cell_type": "code",
   "execution_count": 8,
   "id": "7d85fecc",
   "metadata": {},
   "outputs": [
    {
     "data": {
      "text/plain": [
       "predictor_corrector (generic function with 4 methods)"
      ]
     },
     "execution_count": 8,
     "metadata": {},
     "output_type": "execute_result"
    }
   ],
   "source": [
    "function predictor_corrector(P::IplpProblem, info=true, tol=1e-8, maxit=100)    \n",
    "    iter = 0\n",
    "    SP = starting_point(P)\n",
    "    GAMMA = select_gamma(P) #limit step length\n",
    "    m,n = size(P.A)\n",
    "    \n",
    "    x_0 = copy(SP.x)\n",
    "    λ_0 = copy(SP.λ)\n",
    "    s_0 = copy(SP.s)\n",
    "    \n",
    "    if info\n",
    "        @printf(\"%10s %12s %12s\\n\", \"Iteration\", \"Alpha Prim\", \"Alpha Dual\")\n",
    "        @printf(\"%10d %12.4g %12.4g\\n\", iter, 0., 0.)\n",
    "    end\n",
    "    \n",
    "    x1,λ1,s1,flag = vec([0.]),vec([0.]),vec([0.]),false\n",
    "    \n",
    "    for iter=1:maxit\n",
    "        # Residuals for primal feasibility       rb\n",
    "        #               dual feasibility         rc\n",
    "        #               complementary slackness  rxs\n",
    "        rb  = P.A*x_0-P.b\n",
    "        rc  = P.A'*λ_0+s_0-P.c\n",
    "        rxs = x_0.*s_0\n",
    "\n",
    "        # Predictor\n",
    "        λ_aff,x_aff,s_aff = solve_linear_system(P.A,x_0,s_0,rb,rc,rxs) # direction\n",
    "        alpha_aff_primal  = alpha_max(x_0,x_aff) # step lengths\n",
    "        alpha_aff_dual = alpha_max(s_0,s_aff)\n",
    "        \n",
    "        # Corrector\n",
    "        μ = mean(rxs)\n",
    "        μ_affine = sum((x_0 .+ alpha_aff_primal .* x_aff) .* (s_0 .+ alpha_aff_dual .* s_aff)) / n\n",
    "        σ = (μ_affine/μ)^3 # centering parameter\n",
    "        rxs = x_aff.*s_aff.-σ*μ\n",
    "        λ_cc,x_cc,s_cc = solve_linear_system(P.A,x_0,s_0,spzeros(m),spzeros(n),rxs)\n",
    "\n",
    "        # Combine to find search direction\n",
    "        direction_x = x_aff+x_cc\n",
    "        direction_λ = λ_aff+λ_cc\n",
    "        direction_s = s_aff+s_cc\n",
    "        \n",
    "        # Finding the max step length it can take \n",
    "        # Find max allowable step len Wright Chapter 4\n",
    "        alpha_max_pri, alpha_max_dual = alpha_max(x_0, direction_x, Inf), alpha_max(s_0, direction_s, Inf)\n",
    "        \n",
    "        # Wright P205 Chapter 10\n",
    "        x1_pri, s1_dual = x_0 + alpha_max_pri * direction_x, s_0 + alpha_max_dual * direction_s\n",
    "        μp= dot(x1_pri, s1_dual) / n\n",
    "        f_prim = (GAMMA * μp / s1_dual[argmin(x1_pri)] - x_0[argmin(x1_pri)]) / alpha_max_pri / direction_x[argmin(x1_pri)]\n",
    "        f_dual = (GAMMA * μp / x1_pri[argmin(s1_dual)] - s_0[argmin(s1_dual)]) / alpha_max_dual / direction_s[argmin(s1_dual)]\n",
    "        alpha_pri, alpha_dual = max(1 - GAMMA, f_prim) * alpha_max_pri, max(1 - GAMMA, f_dual) * alpha_max_dual\n",
    "\n",
    "        \n",
    "        # Unboundness check\n",
    "        if unbound_check(alpha_pri, alpha_dual)\n",
    "            warn(\"This problem is unbounded\")\n",
    "            return x1,λ1,s1,false,iter\n",
    "        end\n",
    "        \n",
    "        # Take the step\n",
    "        x1 = x_0+alpha_pri*direction_x\n",
    "        λ1 = λ_0+alpha_dual*direction_λ\n",
    "        s1 = s_0+alpha_dual*direction_s\n",
    "        x_0 = x1\n",
    "        λ_0 = λ1\n",
    "        s_0 = s1\n",
    "        \n",
    "        if info\n",
    "            @printf(\"%10d %12.4g %12.4g\\n\", iter, alpha_pri, alpha_dual)\n",
    "        end\n",
    "        \n",
    "        r1 = norm(P.A*x1-P.b)/(1+norm(P.b))\n",
    "        r2 = norm(P.A'*λ1+s1-P.c)/(1+norm(P.c))\n",
    "        r3 = abs(dot(P.c,x1)-dot(P.b,λ1))/(1+abs(dot(P.c,x1)))\n",
    "        if r1 < tol && r2 < tol && r3 < tol\n",
    "            flag = true\n",
    "            break\n",
    "        end\n",
    "    end\n",
    "    \n",
    "    return x1,λ1,s1,flag\n",
    "end"
   ]
  },
  {
   "cell_type": "code",
   "execution_count": 9,
   "id": "ee0e0f03",
   "metadata": {},
   "outputs": [
    {
     "data": {
      "text/plain": [
       "iplp (generic function with 4 methods)"
      ]
     },
     "execution_count": 9,
     "metadata": {},
     "output_type": "execute_result"
    }
   ],
   "source": [
    "function iplp(P::IplpProblem, info=true, tol=1e-8, maxit=100)\n",
    "    P = remove_zero_columns(P)\n",
    "    P = remove_zero_rows(P)\n",
    "    stdpb = convert_to_standard_form(P)\n",
    "    \n",
    "    # Check Infeasibility\n",
    "    @printf(\"===================Infeasible Check=====================\\n\")\n",
    "    m,n = size(stdpb.A)\n",
    "    A = [stdpb.A Matrix{Float64}(I,m,m)]\n",
    "    b = copy(stdpb.b)\n",
    "    c = [zeros(Float64, n); ones(Float64, m)]\n",
    "    check_target = IplpProblem(c, A, b, vec(P.lo), vec(P.hi))\n",
    "    check_x = predictor_corrector(check_target, false)[1]\n",
    "    if abs(dot(c, check_x)) > 1e-8\n",
    "        @printf(\"Infeasible LP Problem!\\n\")\n",
    "        return IplpSolution(vec([0.]),false,vec(c),A,vec(b),vec([0.]),vec([0.]),vec([0.])), -1\n",
    "    else\n",
    "        @printf(\"Feasible LP Problem.\\n\")\n",
    "    end\n",
    "        \n",
    "    if info\n",
    "        @printf(\"\\n=======================Solution=========================\\n\")\n",
    "        @printf(\"The problem is feasible, finding solution now...\\n\")\n",
    "        x_sol,λ_sol,s_sol,flag = @time predictor_corrector(stdpb)\n",
    "    else\n",
    "        x_sol,λ_sol,s_sol,flag = @time predictor_corrector(stdpb,false)\n",
    "    end\n",
    "        \n",
    "    op_val = dot(stdpb.c, x_sol)\n",
    "    if info\n",
    "        @printf(\"Optimal Value: %.5f.\\n\", op_val)\n",
    "    end\n",
    "        \n",
    "    return IplpSolution(vec(x_sol),flag,vec(stdpb.c),stdpb.A,vec(stdpb.b),vec(x_sol),vec(λ_sol),vec(s_sol)), op_val\n",
    "end"
   ]
  },
  {
   "cell_type": "code",
   "execution_count": 10,
   "id": "1984cf2b",
   "metadata": {},
   "outputs": [
    {
     "data": {
      "text/plain": [
       "prompt_test (generic function with 2 methods)"
      ]
     },
     "execution_count": 10,
     "metadata": {},
     "output_type": "execute_result"
    }
   ],
   "source": [
    "function get_correct_ov(problem_name)\n",
    "    if occursin(\"lpi\", problem_name)\n",
    "       return Inf\n",
    "    end\n",
    "    md_info = split(Markdown.plain(mdinfo(\"LPnetlib/\" * problem_name)), \"\\n\")\n",
    "    header_line = \"Name       Rows   Cols   Nonzeros    Bytes  BR      Optimal Value\"\n",
    "    header_idx = -1\n",
    "    summary = \"\"\n",
    "    for i in 1:length(md_info)\n",
    "        if occursin(header_line, md_info[i])\n",
    "            header_idx = i\n",
    "            break\n",
    "        end\n",
    "    end\n",
    "    \n",
    "    summary = strip(md_info[header_idx+1], ['*',  ' '])\n",
    "    pattern = r\"(\\S+)\\s+(\\d+)\\s+(\\d+)\\s+(\\d+)\\s+(\\d+)\\s+(\\S{0,1})\\s+(-?\\d+\\.\\d+E[+-]\\d+)\"\n",
    "    m = match(pattern, summary)\n",
    "    if m !== nothing\n",
    "        parsed_dict = Dict(\n",
    "            \"Name\" => m.captures[1],\n",
    "            \"Rows\" => parse(Int, m.captures[2]),\n",
    "            \"Cols\" => parse(Int, m.captures[3]),\n",
    "            \"Nonzeros\" => parse(Int, m.captures[4]),\n",
    "            \"Bytes\" => parse(Int, m.captures[5]),\n",
    "            \"BR\" => m.captures[6],\n",
    "            \"OV\" => parse(Float64, m.captures[7])\n",
    "        )\n",
    "    else\n",
    "        println(\"No match found\")\n",
    "        parsed_dict = nothing\n",
    "    end\n",
    "\n",
    "    return parsed_dict[\"OV\"]   \n",
    "end\n",
    "\n",
    "function test(problem_name::String, info=true)\n",
    "    md = mdopen(\"LPnetlib/\" * problem_name)\n",
    "    pb = convert_matrixdepot(md)\n",
    "    correct_ov = get_correct_ov(problem_name)\n",
    "\n",
    "    solution, op_val = iplp(pb, info)\n",
    "    \n",
    "    if solution.flag\n",
    "        @printf(\"Solution found.\\n\")\n",
    "    else\n",
    "        @printf(\"Not solution found after max iteration.\\n\")\n",
    "    end\n",
    "    \n",
    "    @printf(\"\\n======================Comparison========================\\n\")\n",
    "    \n",
    "    if (correct_ov != Inf && !solution.flag) || (correct_ov == Inf && solution.flag)\n",
    "        println(\"Not matched with correct result\")\n",
    "    else\n",
    "        if correct_ov == Inf\n",
    "            println(\"Successfully detect infeasibility\")\n",
    "        else\n",
    "            println(\"Checking difference...\")\n",
    "            diff = correct_ov-op_val\n",
    "            absolute_diff = abs(diff)\n",
    "            relative_diff = abs(diff/correct_ov)\n",
    "            if info\n",
    "                println(\"Absolute difference: \", absolute_diff)\n",
    "                println(\"Relative difference: \", relative_diff)\n",
    "            end\n",
    "            \n",
    "            if relative_diff < 1e-3\n",
    "                println(\"Result is consistent with correct optimal value\")\n",
    "            else\n",
    "                println(\"Result is wrong\")\n",
    "            end\n",
    "        end\n",
    "        \n",
    "    end\n",
    "    \n",
    "    return (cov=correct_ov, op=op_val)\n",
    "end\n",
    "\n",
    "function prompt_test(info=true)\n",
    "    @printf(\"Which test problem would you like to solve? \\n(Input as: lp_afiro, etc)\\n\")\n",
    "    problem_name = readline()\n",
    "    test(problem_name, info)\n",
    "end"
   ]
  },
  {
   "cell_type": "code",
   "execution_count": 62,
   "id": "dca28db0",
   "metadata": {},
   "outputs": [
    {
     "name": "stdout",
     "output_type": "stream",
     "text": [
      "Which test problem would you like to solve? \n",
      "(Input as: lp_afiro, etc)\n",
      "stdin> lp_brandy\n",
      "===================Infeasible Check=====================\n",
      "Feasible LP Problem.\n",
      "\n",
      "=======================Solution=========================\n",
      "The problem is feasible, finding solution now...\n",
      " Iteration   Alpha Prim   Alpha Dual\n",
      "         0            0            0\n",
      "         1       0.7837       0.9183\n",
      "         2       0.3681       0.3039\n",
      "         3       0.3645       0.2844\n",
      "         4       0.2867       0.6589\n",
      "         5        0.185       0.3998\n",
      "         6      0.04863      0.07348\n",
      "         7      0.01858      0.01295\n",
      "         8       0.2076       0.1869\n",
      "         9       0.4545       0.5522\n",
      "        10       0.8853       0.8895\n",
      "        11       0.9154       0.8306\n",
      "        12       0.4653       0.8962\n",
      "        13       0.5664       0.7958\n",
      "        14       0.8177       0.6822\n",
      "        15       0.8386       0.7924\n",
      "        16       0.9198       0.4358\n",
      "        17        0.802       0.9615\n",
      "        18       0.9896       0.9982\n",
      "        19            1            1\n",
      "  0.099014 seconds (12.21 k allocations: 125.492 MiB, 4.60% gc time)\n",
      "Optimal Value: 1518.50990.\n",
      "Solution found.\n",
      "\n",
      "======================Comparison========================\n",
      "GLPK Solution: 0.0\n",
      "Absolute difference: 1518.5098964881429\n",
      "Relative difference: Inf\n"
     ]
    },
    {
     "data": {
      "text/plain": [
       "(abs = 1518.5098964881429, rel = Inf)"
      ]
     },
     "execution_count": 62,
     "metadata": {},
     "output_type": "execute_result"
    }
   ],
   "source": [
    "prompt_test()"
   ]
  },
  {
   "cell_type": "code",
   "execution_count": 65,
   "id": "3ca30a54",
   "metadata": {},
   "outputs": [],
   "source": [
    "problems = [\"lp_afiro\",\"lp_brandy\",\"lp_fit1d\",\"lp_adlittle\",\n",
    "            \"lp_agg\",\"lp_ganges\",\"lp_stocfor1\", \"lp_25fv47\", \"lpi_chemcom\"];"
   ]
  },
  {
   "cell_type": "code",
   "execution_count": 88,
   "id": "667ce4b9",
   "metadata": {},
   "outputs": [
    {
     "name": "stdout",
     "output_type": "stream",
     "text": [
      "-> Testing: lp_afiro\n",
      "===================Infeasible Check=====================\n",
      "Feasible LP Problem.\n",
      "  0.003258 seconds (3.88 k allocations: 3.610 MiB)\n",
      "Solution found.\n",
      "-464.7531428571428\n",
      "--------------------\n",
      "-> Testing: lp_brandy\n",
      "===================Infeasible Check=====================\n",
      "Feasible LP Problem.\n",
      "  0.101283 seconds (11.77 k allocations: 125.460 MiB, 4.38% gc time)\n",
      "Solution found.\n",
      "1518.5098964881429\n",
      "--------------------\n",
      "-> Testing: lp_fit1d\n",
      "===================Infeasible Check=====================\n",
      "Feasible LP Problem.\n",
      "An error occurred: SingularException(0)\n",
      "--------------------\n",
      "-> Testing: lp_adlittle\n",
      "===================Infeasible Check=====================\n",
      "Feasible LP Problem.\n",
      "  0.014020 seconds (5.53 k allocations: 16.288 MiB)\n",
      "Solution found.\n",
      "225494.9631824746\n",
      "--------------------\n",
      "-> Testing: lp_agg\n",
      "===================Infeasible Check=====================\n",
      "Feasible LP Problem.\n",
      "  0.259092 seconds (22.20 k allocations: 418.168 MiB, 2.63% gc time)\n",
      "Solution found.\n",
      "-3.5991767286576316e7\n",
      "--------------------\n",
      "-> Testing: lp_ganges\n",
      "===================Infeasible Check=====================\n",
      "Feasible LP Problem.\n",
      "  0.889347 seconds (17.80 k allocations: 1.755 GiB, 8.02% gc time)\n",
      "Solution found.\n",
      "No optimal solution found by GLPK solver.\n",
      "-247333.29318261007\n",
      "--------------------\n",
      "-> Testing: lp_stocfor1\n",
      "===================Infeasible Check=====================\n",
      "Feasible LP Problem.\n",
      "  0.034134 seconds (9.39 k allocations: 36.087 MiB, 23.66% gc time)\n",
      "Solution found.\n",
      "No optimal solution found by GLPK solver.\n",
      "-41131.976219436394\n",
      "--------------------\n",
      "-> Testing: lp_25fv47\n",
      "===================Infeasible Check=====================\n",
      "Feasible LP Problem.\n",
      "  1.712944 seconds (21.05 k allocations: 2.493 GiB, 2.49% gc time)\n",
      "Solution found.\n",
      "No optimal solution found by GLPK solver.\n",
      "5501.8458882870345\n",
      "--------------------\n",
      "-> Testing: lpi_chemcom\n",
      "===================Infeasible Check=====================\n",
      "Infeasible LP Problem!\n",
      "Not solution found after max iteration.\n",
      "-1\n",
      "--------------------\n"
     ]
    }
   ],
   "source": [
    "for problem_name in problems\n",
    "    try\n",
    "        println(\"-> Testing: \", problem_name)\n",
    "        D = test(problem_name, false)\n",
    "        println(D.op)\n",
    "    catch e\n",
    "        println(\"An error occurred: \", e)\n",
    "    end\n",
    "    println(\"--------------------\")\n",
    "end"
   ]
  },
  {
   "cell_type": "code",
   "execution_count": 11,
   "id": "319f3fab",
   "metadata": {},
   "outputs": [
    {
     "name": "stdout",
     "output_type": "stream",
     "text": [
      "===================Infeasible Check=====================\n",
      "Feasible LP Problem.\n",
      "\n",
      "=======================Solution=========================\n",
      "The problem is feasible, finding solution now...\n",
      " Iteration   Alpha Prim   Alpha Dual\n",
      "         0            0            0\n",
      "         1       0.5435       0.9281\n",
      "         2       0.8042        0.873\n",
      "         3       0.7363       0.6958\n",
      "         4       0.8353       0.5409\n",
      "         5        0.963       0.9009\n",
      "         6       0.6181        0.564\n",
      "         7       0.4952       0.5332\n",
      "         8       0.8552       0.5716\n",
      "         9          0.9       0.8094\n",
      "        10         0.58       0.8694\n",
      "        11       0.8365       0.7639\n",
      "        12       0.8227       0.9409\n",
      "        13       0.8776       0.9609\n",
      "        14       0.7584       0.4199\n",
      "        15       0.6685       0.5832\n",
      "        16       0.6421       0.6214\n",
      "        17       0.6208       0.7385\n",
      "        18       0.7312       0.8761\n",
      "        19       0.8104       0.8101\n",
      "        20       0.8143       0.9787\n",
      "  1.575679 seconds (535.10 k allocations: 1.779 GiB, 6.47% gc time, 34.38% compilation time)\n",
      "Optimal Value: -247333.29318.\n",
      "Solution found.\n",
      "\n",
      "======================Comparison========================\n",
      "No optimal solution found by GLPK solver.\n"
     ]
    },
    {
     "data": {
      "text/plain": [
       "(abs = -1, rel = -1, op = -247333.29318261007)"
      ]
     },
     "execution_count": 11,
     "metadata": {},
     "output_type": "execute_result"
    }
   ],
   "source": [
    "test(\"lp_ganges\")"
   ]
  },
  {
   "cell_type": "code",
   "execution_count": null,
   "id": "eb40bc97",
   "metadata": {},
   "outputs": [],
   "source": []
  }
 ],
 "metadata": {
  "@webio": {
   "lastCommId": null,
   "lastKernelId": null
  },
  "kernelspec": {
   "display_name": "Julia 1.8.5",
   "language": "julia",
   "name": "julia-1.8"
  },
  "language_info": {
   "file_extension": ".jl",
   "mimetype": "application/julia",
   "name": "julia",
   "version": "1.8.5"
  }
 },
 "nbformat": 4,
 "nbformat_minor": 5
}
